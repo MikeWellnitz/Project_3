{
 "cells": [
  {
   "cell_type": "code",
   "execution_count": 1,
   "id": "2890d3bf",
   "metadata": {},
   "outputs": [],
   "source": [
    "# Import Libraries\n",
    "import pandas as pd\n",
    "import sqlite3\n",
    "import numpy as np\n",
    "from flask import Flask, jsonify, send_file\n",
    "from flask_cors import CORS"
   ]
  },
  {
   "cell_type": "code",
   "execution_count": 2,
   "id": "19701186-069e-453e-97ad-66bb48465830",
   "metadata": {},
   "outputs": [],
   "source": [
    "# Load the Dataframe\n",
    "df = pd.read_csv('project_data.csv')"
   ]
  },
  {
   "cell_type": "code",
   "execution_count": 3,
   "id": "feb3148e",
   "metadata": {},
   "outputs": [],
   "source": [
    "# Dataset Cleaning\n",
    "# Code to drop duplicates in the DataFrame\n",
    "df = df.drop_duplicates()\n",
    "\n",
    "# Code to fill missing values with the mean of numeric columns only\n",
    "numeric_columns = df.select_dtypes(include=np.number).columns\n",
    "df[numeric_columns] = df[numeric_columns].fillna(df[numeric_columns].mean())\n",
    "\n",
    "# Dataset Analysis\n",
    "# Select only numeric columns for correlation matrix calculation\n",
    "df_numeric = df.select_dtypes(include=np.number)\n",
    "correlation_matrix = df_numeric.corr()\n",
    "\n",
    "# Calculate summary statistics\n",
    "summary_stats = df.describe().to_dict()"
   ]
  },
  {
   "cell_type": "code",
   "execution_count": 4,
   "id": "de21f44f",
   "metadata": {},
   "outputs": [],
   "source": [
    "# Database Integration\n",
    "conn = sqlite3.connect('database.db')\n",
    "cursor = conn.cursor()\n",
    "\n",
    "# Drop the existing table if it exists\n",
    "cursor.execute(\"DROP TABLE IF EXISTS my_table\")\n",
    "\n",
    "# Create the table with real column headers from the dataset\n",
    "table_columns = df.columns.tolist()\n",
    "table_columns_str = ', '.join([f\"`{col}` TEXT\" for col in table_columns if col != \"Index\"])\n",
    "cursor.execute(f\"CREATE TABLE IF NOT EXISTS my_table ({table_columns_str})\")\n",
    "\n",
    "# Insert data into the table\n",
    "data_tuples = [tuple(row[1:]) for row in df.itertuples(index=False)]\n",
    "columns_for_query = ', '.join([f\"`{col}`\" for col in df.columns if col != \"Index\"])\n",
    "placeholders = ', '.join(['?'] * (len(df.columns) - 1))\n",
    "insert_query = f\"INSERT INTO my_table ({columns_for_query}) VALUES ({placeholders})\"\n",
    "cursor.executemany(insert_query, data_tuples)\n",
    "\n",
    "conn.commit()\n",
    "conn.close()"
   ]
  },
  {
   "cell_type": "code",
   "execution_count": null,
   "id": "da7dbef2-1e91-4b0e-9f17-7140331753fe",
   "metadata": {},
   "outputs": [
    {
     "name": "stdout",
     "output_type": "stream",
     "text": [
      " * Serving Flask app '__main__'\n",
      " * Debug mode: off\n"
     ]
    },
    {
     "name": "stderr",
     "output_type": "stream",
     "text": [
      "WARNING: This is a development server. Do not use it in a production deployment. Use a production WSGI server instead.\n",
      " * Running on http://127.0.0.1:5000\n",
      "Press CTRL+C to quit\n"
     ]
    }
   ],
   "source": [
    "# Python Flask-powered API\n",
    "app = Flask(__name__)\n",
    "\n",
    "# Set Content Security Policy\n",
    "@app.after_request\n",
    "def set_content_security_policy(response):\n",
    "    response.headers['Content-Security-Policy'] = \"default-src 'none'; font-src 'self' http://127.0.0.1:5500;\"\n",
    "    return response\n",
    "\n",
    "# Serve CSS file\n",
    "@app.route('/styles.css')\n",
    "def serve_css():\n",
    "    return send_file('styles.css', mimetype='text/css')\n",
    "\n",
    "# Enable CORS\n",
    "CORS(app)\n",
    "\n",
    "# Load the dataset for the API\n",
    "@app.route('/api/data', methods=['GET'])\n",
    "def get_data():\n",
    "    df_api = pd.read_csv('project_data.csv')\n",
    "    data = df_api.to_dict(orient='records')\n",
    "    \n",
    "    # Calculate summary statistics\n",
    "    summary_stats = df_api.describe().reset_index()\n",
    "    summary_stats = summary_stats.rename(columns={'index': 'Statistic'})\n",
    "    summary_stats = summary_stats.melt(id_vars=['Statistic'], var_name='Column', value_name='Value')\n",
    "    summary_stats = summary_stats.to_dict(orient='records')\n",
    "\n",
    "    # Calculate correlation matrix\n",
    "    df_numeric = df_api.select_dtypes(include=np.number)\n",
    "    correlation_matrix = df_numeric.corr()\n",
    "    correlation_matrix = correlation_matrix.reset_index()\n",
    "    correlation_matrix = correlation_matrix.rename(columns={'index': 'Column'})\n",
    "    correlation_matrix = pd.melt(correlation_matrix, id_vars='Column', var_name='Variable', value_name='Value')\n",
    "    correlation_matrix = correlation_matrix.to_dict(orient='records')\n",
    "\n",
    "    # Combine data, correlation_matrix, and summary_stats into a single dictionary\n",
    "    result = {\n",
    "        \"data\": data,\n",
    "        \"correlation_matrix\": correlation_matrix,\n",
    "        \"summary_stats\": summary_stats\n",
    "    }\n",
    "    \n",
    "    return jsonify(result)\n",
    "\n",
    "if __name__ == '__main__':\n",
    "    app.run()"
   ]
  }
 ],
 "metadata": {
  "kernelspec": {
   "display_name": "Python 3 (ipykernel)",
   "language": "python",
   "name": "python3"
  },
  "language_info": {
   "codemirror_mode": {
    "name": "ipython",
    "version": 3
   },
   "file_extension": ".py",
   "mimetype": "text/x-python",
   "name": "python",
   "nbconvert_exporter": "python",
   "pygments_lexer": "ipython3",
   "version": "3.11.4"
  }
 },
 "nbformat": 4,
 "nbformat_minor": 5
}
